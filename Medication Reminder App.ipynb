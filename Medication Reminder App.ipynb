{
 "cells": [
  {
   "cell_type": "code",
   "execution_count": null,
   "id": "9942ba64-5fa7-4a3b-907c-590ca657913d",
   "metadata": {},
   "outputs": [
    {
     "name": "stdin",
     "output_type": "stream",
     "text": [
      "What hour do you want the alarm to ring?  6\n",
      "What minute do you want the alarm to ring?  30\n",
      "am or pm?  am\n"
     ]
    },
    {
     "name": "stdout",
     "output_type": "stream",
     "text": [
      "Waiting for alarm 6 30 am\n"
     ]
    }
   ],
   "source": [
    "import os\n",
    "import datetime\n",
    "import winsound #built into python and works well on windows like pygame.mixer. playsound works on IOS.\n",
    "\n",
    "\n",
    "# Clear the console (Windows)\n",
    "os.system('cls') #in IOS, this console clearing command will be 'clear'\n",
    "\n",
    "\n",
    "# Get alarm time from the user\n",
    "alarmH = int(input(\"What hour do you want the alarm to ring? \"))\n",
    "alarmM = int(input(\"What minute do you want the alarm to ring? \"))\n",
    "amPm = str(input(\"am or pm? \"))\n",
    "\n",
    "\n",
    "# Clear the console again\n",
    "os.system('cls')\n",
    "print(\"Waiting for alarm\", alarmH, alarmM, amPm)\n",
    "\n",
    "\n",
    "# Convert 12-hour format to 24-hour format\n",
    "if amPm.lower() == \"pm\" and alarmH != 12:\n",
    "    alarmH += 12\n",
    "elif amPm.lower() == \"am\" and alarmH == 12:\n",
    "    alarmH = 0\n",
    "\n",
    "\n",
    "# Infinite loop to check the time\n",
    "while True:\n",
    "    current_time = datetime.datetime.now()\n",
    "    if (alarmH == current_time.hour and alarmM == current_time.minute):\n",
    "        print(\"Time to take your medicine!\")\n",
    "        # Play a .wav sound (make sure to use a .wav file)\n",
    "        winsound.PlaySound(\"C:\\\\Users\\\\HP\\\\Downloads\\\\Sam Smith - Fire On Fire (From Watership Down).wav\", winsound.SND_FILENAME)\n",
    "        break\n",
    "\n",
    "\n",
    "#i used https://cloudconvert.com/mp3-to-wav to convert my mp3 to wav\n",
    "#the argument 'winsound.SND_FILENAME' indicates that i am passing a filename.\n",
    "#FORWARD / slashes work for playsound module instead of backward slashes.\n"
   ]
  },
  {
   "cell_type": "code",
   "execution_count": null,
   "id": "8430e198-4eed-44f4-b656-0c8bff119944",
   "metadata": {},
   "outputs": [],
   "source": []
  }
 ],
 "metadata": {
  "kernelspec": {
   "display_name": "Python 3 (ipykernel)",
   "language": "python",
   "name": "python3"
  },
  "language_info": {
   "codemirror_mode": {
    "name": "ipython",
    "version": 3
   },
   "file_extension": ".py",
   "mimetype": "text/x-python",
   "name": "python",
   "nbconvert_exporter": "python",
   "pygments_lexer": "ipython3",
   "version": "3.11.7"
  }
 },
 "nbformat": 4,
 "nbformat_minor": 5
}
